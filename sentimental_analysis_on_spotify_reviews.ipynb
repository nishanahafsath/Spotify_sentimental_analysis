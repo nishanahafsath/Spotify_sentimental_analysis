{
  "cells": [
    {
      "cell_type": "markdown",
      "metadata": {
        "id": "view-in-github",
        "colab_type": "text"
      },
      "source": [
        "<a href=\"https://colab.research.google.com/github/nishanahafsath/Spotify_sentimental_analysis/blob/main/sentimental_analysis_on_spotify_reviews.ipynb\" target=\"_parent\"><img src=\"https://colab.research.google.com/assets/colab-badge.svg\" alt=\"Open In Colab\"/></a>"
      ]
    },
    {
      "cell_type": "markdown",
      "metadata": {
        "id": "OIHplzZPuRev"
      },
      "source": [
        "## Project Objective and Brief\n",
        "To develop deep learning algorithms with an aim to detect different types of sentiment contained in a collection of English sentences or a large paragraph and accurately predict the overall sentiment of the paragraph\n",
        "\n",
        "Project Guidelines\n",
        "\n",
        "1. Identify and finalize a collection of English sentences or a large paragraph which will also cover contradictory statements.\n",
        "\n",
        "2. Develop a deep learning model for detection & segmentation of sentiments whether positive, negative, or neutral from the paragraph.\n",
        "\n",
        "3. Enhance the previous algorithm to accurately predict the overall sentiment of the paragraph even if it contains contradictory statements.\n",
        "\n",
        "4. Test the model for accuracy."
      ]
    },
    {
      "cell_type": "markdown",
      "metadata": {
        "id": "6fCoKGuVurNx"
      },
      "source": [
        "### Dataset Description\n",
        "The dataset contains customer reviews and associated information for the popular music streaming service.The dataset includes attributes such as the time the review was submitted, the text within the review, the rating (1-5), the total thumbs up (how many people thought the review was helpful) and the review reply."
      ]
    },
    {
      "cell_type": "code",
      "execution_count": null,
      "metadata": {
        "id": "nNM_awCMupCp"
      },
      "outputs": [],
      "source": [
        "#importing necessary libraries\n",
        "import numpy as np\n",
        "import pandas as pd\n",
        "import matplotlib.pyplot as plt\n",
        "import seaborn as sns\n",
        "import re\n",
        "import nltk\n",
        "import spacy\n",
        "import string"
      ]
    },
    {
      "cell_type": "code",
      "execution_count": null,
      "metadata": {
        "id": "dzjSPkcou7Hc"
      },
      "outputs": [],
      "source": [
        "from nltk.tokenize import word_tokenize\n",
        "from nltk.corpus import stopwords\n",
        "from nltk.stem import WordNetLemmatizer\n",
        "from tensorflow.keras.preprocessing.text import Tokenizer\n",
        "from tensorflow.keras.preprocessing.sequence import pad_sequences\n",
        "from tensorflow.keras.models import Sequential\n",
        "from tensorflow.keras.layers import LSTM,Dense, Dropout, SpatialDropout1D\n",
        "from tensorflow.keras.layers import Embedding\n",
        "from nltk.sentiment import SentimentIntensityAnalyzer\n",
        "\n",
        "\n"
      ]
    },
    {
      "cell_type": "code",
      "execution_count": null,
      "metadata": {
        "id": "IAY-BaXCxQhY"
      },
      "outputs": [],
      "source": [
        "import warnings\n",
        "# Ignore all warnings\n",
        "warnings.filterwarnings(\"ignore\")"
      ]
    },
    {
      "cell_type": "code",
      "execution_count": null,
      "metadata": {
        "colab": {
          "base_uri": "https://localhost:8080/"
        },
        "id": "7Bh2RU-gwh45",
        "outputId": "28f6cc87-a31e-4e94-d422-5a83086e0a1a"
      },
      "outputs": [
        {
          "name": "stderr",
          "output_type": "stream",
          "text": [
            "[nltk_data] Downloading package punkt to\n",
            "[nltk_data]     C:\\Users\\user\\AppData\\Roaming\\nltk_data...\n",
            "[nltk_data]   Package punkt is already up-to-date!\n"
          ]
        },
        {
          "data": {
            "text/plain": [
              "True"
            ]
          },
          "execution_count": 4,
          "metadata": {},
          "output_type": "execute_result"
        }
      ],
      "source": [
        "import nltk\n",
        "nltk.download('punkt')"
      ]
    },
    {
      "cell_type": "code",
      "execution_count": null,
      "metadata": {
        "colab": {
          "base_uri": "https://localhost:8080/"
        },
        "id": "tPFUUNHcwvjs",
        "outputId": "785652b4-222f-43df-f419-79d870cc5e7a"
      },
      "outputs": [
        {
          "name": "stderr",
          "output_type": "stream",
          "text": [
            "[nltk_data] Downloading package stopwords to\n",
            "[nltk_data]     C:\\Users\\user\\AppData\\Roaming\\nltk_data...\n",
            "[nltk_data]   Package stopwords is already up-to-date!\n",
            "[nltk_data] Downloading package wordnet to\n",
            "[nltk_data]     C:\\Users\\user\\AppData\\Roaming\\nltk_data...\n",
            "[nltk_data]   Package wordnet is already up-to-date!\n"
          ]
        },
        {
          "data": {
            "text/plain": [
              "True"
            ]
          },
          "execution_count": 5,
          "metadata": {},
          "output_type": "execute_result"
        }
      ],
      "source": [
        " ##download the necessary stopwords\n",
        "nltk.download('stopwords')\n",
        "nltk.download('wordnet')"
      ]
    },
    {
      "cell_type": "code",
      "execution_count": null,
      "metadata": {
        "id": "SmO17nayviHG"
      },
      "outputs": [],
      "source": [
        "# Load your dataset\n",
        "df=pd.read_csv(\"reviews.csv\")\n"
      ]
    },
    {
      "cell_type": "code",
      "execution_count": null,
      "metadata": {
        "colab": {
          "base_uri": "https://localhost:8080/",
          "height": 424
        },
        "id": "HvzZ8h72w_g8",
        "outputId": "a8a07bbb-2754-4860-ccdc-752f97b7c5cc"
      },
      "outputs": [
        {
          "data": {
            "text/html": [
              "<div>\n",
              "<style scoped>\n",
              "    .dataframe tbody tr th:only-of-type {\n",
              "        vertical-align: middle;\n",
              "    }\n",
              "\n",
              "    .dataframe tbody tr th {\n",
              "        vertical-align: top;\n",
              "    }\n",
              "\n",
              "    .dataframe thead th {\n",
              "        text-align: right;\n",
              "    }\n",
              "</style>\n",
              "<table border=\"1\" class=\"dataframe\">\n",
              "  <thead>\n",
              "    <tr style=\"text-align: right;\">\n",
              "      <th></th>\n",
              "      <th>Time_submitted</th>\n",
              "      <th>Review</th>\n",
              "      <th>Rating</th>\n",
              "      <th>Total_thumbsup</th>\n",
              "      <th>Reply</th>\n",
              "    </tr>\n",
              "  </thead>\n",
              "  <tbody>\n",
              "    <tr>\n",
              "      <th>0</th>\n",
              "      <td>2022-07-09 15:00:00</td>\n",
              "      <td>Great music service, the audio is high quality...</td>\n",
              "      <td>5</td>\n",
              "      <td>2</td>\n",
              "      <td>NaN</td>\n",
              "    </tr>\n",
              "    <tr>\n",
              "      <th>1</th>\n",
              "      <td>2022-07-09 14:21:22</td>\n",
              "      <td>Please ignore previous negative rating. This a...</td>\n",
              "      <td>5</td>\n",
              "      <td>1</td>\n",
              "      <td>NaN</td>\n",
              "    </tr>\n",
              "    <tr>\n",
              "      <th>2</th>\n",
              "      <td>2022-07-09 13:27:32</td>\n",
              "      <td>This pop-up \"Get the best Spotify experience o...</td>\n",
              "      <td>4</td>\n",
              "      <td>0</td>\n",
              "      <td>NaN</td>\n",
              "    </tr>\n",
              "    <tr>\n",
              "      <th>3</th>\n",
              "      <td>2022-07-09 13:26:45</td>\n",
              "      <td>Really buggy and terrible to use as of recently</td>\n",
              "      <td>1</td>\n",
              "      <td>1</td>\n",
              "      <td>NaN</td>\n",
              "    </tr>\n",
              "    <tr>\n",
              "      <th>4</th>\n",
              "      <td>2022-07-09 13:20:49</td>\n",
              "      <td>Dear Spotify why do I get songs that I didn't ...</td>\n",
              "      <td>1</td>\n",
              "      <td>1</td>\n",
              "      <td>NaN</td>\n",
              "    </tr>\n",
              "    <tr>\n",
              "      <th>...</th>\n",
              "      <td>...</td>\n",
              "      <td>...</td>\n",
              "      <td>...</td>\n",
              "      <td>...</td>\n",
              "      <td>...</td>\n",
              "    </tr>\n",
              "    <tr>\n",
              "      <th>61589</th>\n",
              "      <td>2022-01-01 03:01:29</td>\n",
              "      <td>Even though it was communicated that lyrics fe...</td>\n",
              "      <td>1</td>\n",
              "      <td>6</td>\n",
              "      <td>NaN</td>\n",
              "    </tr>\n",
              "    <tr>\n",
              "      <th>61590</th>\n",
              "      <td>2022-01-01 02:13:40</td>\n",
              "      <td>Use to be sooo good back when I had it, and wh...</td>\n",
              "      <td>1</td>\n",
              "      <td>0</td>\n",
              "      <td>NaN</td>\n",
              "    </tr>\n",
              "    <tr>\n",
              "      <th>61591</th>\n",
              "      <td>2022-01-01 01:02:29</td>\n",
              "      <td>This app would be good if not for it taking ov...</td>\n",
              "      <td>2</td>\n",
              "      <td>10</td>\n",
              "      <td>NaN</td>\n",
              "    </tr>\n",
              "    <tr>\n",
              "      <th>61592</th>\n",
              "      <td>2022-01-01 00:49:23</td>\n",
              "      <td>The app is good hard to navigate and won't jus...</td>\n",
              "      <td>2</td>\n",
              "      <td>1</td>\n",
              "      <td>NaN</td>\n",
              "    </tr>\n",
              "    <tr>\n",
              "      <th>61593</th>\n",
              "      <td>2022-01-01 00:19:09</td>\n",
              "      <td>Its good but sometimes it doesnt load the musi...</td>\n",
              "      <td>4</td>\n",
              "      <td>0</td>\n",
              "      <td>NaN</td>\n",
              "    </tr>\n",
              "  </tbody>\n",
              "</table>\n",
              "<p>61594 rows × 5 columns</p>\n",
              "</div>"
            ],
            "text/plain": [
              "            Time_submitted                                             Review  \\\n",
              "0      2022-07-09 15:00:00  Great music service, the audio is high quality...   \n",
              "1      2022-07-09 14:21:22  Please ignore previous negative rating. This a...   \n",
              "2      2022-07-09 13:27:32  This pop-up \"Get the best Spotify experience o...   \n",
              "3      2022-07-09 13:26:45    Really buggy and terrible to use as of recently   \n",
              "4      2022-07-09 13:20:49  Dear Spotify why do I get songs that I didn't ...   \n",
              "...                    ...                                                ...   \n",
              "61589  2022-01-01 03:01:29  Even though it was communicated that lyrics fe...   \n",
              "61590  2022-01-01 02:13:40  Use to be sooo good back when I had it, and wh...   \n",
              "61591  2022-01-01 01:02:29  This app would be good if not for it taking ov...   \n",
              "61592  2022-01-01 00:49:23  The app is good hard to navigate and won't jus...   \n",
              "61593  2022-01-01 00:19:09  Its good but sometimes it doesnt load the musi...   \n",
              "\n",
              "       Rating  Total_thumbsup Reply  \n",
              "0           5               2   NaN  \n",
              "1           5               1   NaN  \n",
              "2           4               0   NaN  \n",
              "3           1               1   NaN  \n",
              "4           1               1   NaN  \n",
              "...       ...             ...   ...  \n",
              "61589       1               6   NaN  \n",
              "61590       1               0   NaN  \n",
              "61591       2              10   NaN  \n",
              "61592       2               1   NaN  \n",
              "61593       4               0   NaN  \n",
              "\n",
              "[61594 rows x 5 columns]"
            ]
          },
          "execution_count": 7,
          "metadata": {},
          "output_type": "execute_result"
        }
      ],
      "source": [
        "df"
      ]
    },
    {
      "cell_type": "code",
      "execution_count": null,
      "metadata": {
        "colab": {
          "base_uri": "https://localhost:8080/",
          "height": 206
        },
        "id": "GV5xrU52xBFR",
        "outputId": "ee62dea5-64ac-4ce9-c448-fa027d7ed8bc"
      },
      "outputs": [
        {
          "data": {
            "text/html": [
              "<div>\n",
              "<style scoped>\n",
              "    .dataframe tbody tr th:only-of-type {\n",
              "        vertical-align: middle;\n",
              "    }\n",
              "\n",
              "    .dataframe tbody tr th {\n",
              "        vertical-align: top;\n",
              "    }\n",
              "\n",
              "    .dataframe thead th {\n",
              "        text-align: right;\n",
              "    }\n",
              "</style>\n",
              "<table border=\"1\" class=\"dataframe\">\n",
              "  <thead>\n",
              "    <tr style=\"text-align: right;\">\n",
              "      <th></th>\n",
              "      <th>Time_submitted</th>\n",
              "      <th>Review</th>\n",
              "      <th>Rating</th>\n",
              "      <th>Total_thumbsup</th>\n",
              "      <th>Reply</th>\n",
              "    </tr>\n",
              "  </thead>\n",
              "  <tbody>\n",
              "    <tr>\n",
              "      <th>0</th>\n",
              "      <td>2022-07-09 15:00:00</td>\n",
              "      <td>Great music service, the audio is high quality...</td>\n",
              "      <td>5</td>\n",
              "      <td>2</td>\n",
              "      <td>NaN</td>\n",
              "    </tr>\n",
              "    <tr>\n",
              "      <th>1</th>\n",
              "      <td>2022-07-09 14:21:22</td>\n",
              "      <td>Please ignore previous negative rating. This a...</td>\n",
              "      <td>5</td>\n",
              "      <td>1</td>\n",
              "      <td>NaN</td>\n",
              "    </tr>\n",
              "    <tr>\n",
              "      <th>2</th>\n",
              "      <td>2022-07-09 13:27:32</td>\n",
              "      <td>This pop-up \"Get the best Spotify experience o...</td>\n",
              "      <td>4</td>\n",
              "      <td>0</td>\n",
              "      <td>NaN</td>\n",
              "    </tr>\n",
              "    <tr>\n",
              "      <th>3</th>\n",
              "      <td>2022-07-09 13:26:45</td>\n",
              "      <td>Really buggy and terrible to use as of recently</td>\n",
              "      <td>1</td>\n",
              "      <td>1</td>\n",
              "      <td>NaN</td>\n",
              "    </tr>\n",
              "    <tr>\n",
              "      <th>4</th>\n",
              "      <td>2022-07-09 13:20:49</td>\n",
              "      <td>Dear Spotify why do I get songs that I didn't ...</td>\n",
              "      <td>1</td>\n",
              "      <td>1</td>\n",
              "      <td>NaN</td>\n",
              "    </tr>\n",
              "  </tbody>\n",
              "</table>\n",
              "</div>"
            ],
            "text/plain": [
              "        Time_submitted                                             Review  \\\n",
              "0  2022-07-09 15:00:00  Great music service, the audio is high quality...   \n",
              "1  2022-07-09 14:21:22  Please ignore previous negative rating. This a...   \n",
              "2  2022-07-09 13:27:32  This pop-up \"Get the best Spotify experience o...   \n",
              "3  2022-07-09 13:26:45    Really buggy and terrible to use as of recently   \n",
              "4  2022-07-09 13:20:49  Dear Spotify why do I get songs that I didn't ...   \n",
              "\n",
              "   Rating  Total_thumbsup Reply  \n",
              "0       5               2   NaN  \n",
              "1       5               1   NaN  \n",
              "2       4               0   NaN  \n",
              "3       1               1   NaN  \n",
              "4       1               1   NaN  "
            ]
          },
          "execution_count": 8,
          "metadata": {},
          "output_type": "execute_result"
        }
      ],
      "source": [
        "df.head()"
      ]
    },
    {
      "cell_type": "code",
      "execution_count": null,
      "metadata": {
        "colab": {
          "base_uri": "https://localhost:8080/",
          "height": 206
        },
        "id": "jaPixHB8xIjk",
        "outputId": "5674ec3a-58d9-40bd-9c58-248db3ac9dfa"
      },
      "outputs": [
        {
          "data": {
            "text/html": [
              "<div>\n",
              "<style scoped>\n",
              "    .dataframe tbody tr th:only-of-type {\n",
              "        vertical-align: middle;\n",
              "    }\n",
              "\n",
              "    .dataframe tbody tr th {\n",
              "        vertical-align: top;\n",
              "    }\n",
              "\n",
              "    .dataframe thead th {\n",
              "        text-align: right;\n",
              "    }\n",
              "</style>\n",
              "<table border=\"1\" class=\"dataframe\">\n",
              "  <thead>\n",
              "    <tr style=\"text-align: right;\">\n",
              "      <th></th>\n",
              "      <th>Time_submitted</th>\n",
              "      <th>Review</th>\n",
              "      <th>Rating</th>\n",
              "      <th>Total_thumbsup</th>\n",
              "      <th>Reply</th>\n",
              "    </tr>\n",
              "  </thead>\n",
              "  <tbody>\n",
              "    <tr>\n",
              "      <th>61589</th>\n",
              "      <td>2022-01-01 03:01:29</td>\n",
              "      <td>Even though it was communicated that lyrics fe...</td>\n",
              "      <td>1</td>\n",
              "      <td>6</td>\n",
              "      <td>NaN</td>\n",
              "    </tr>\n",
              "    <tr>\n",
              "      <th>61590</th>\n",
              "      <td>2022-01-01 02:13:40</td>\n",
              "      <td>Use to be sooo good back when I had it, and wh...</td>\n",
              "      <td>1</td>\n",
              "      <td>0</td>\n",
              "      <td>NaN</td>\n",
              "    </tr>\n",
              "    <tr>\n",
              "      <th>61591</th>\n",
              "      <td>2022-01-01 01:02:29</td>\n",
              "      <td>This app would be good if not for it taking ov...</td>\n",
              "      <td>2</td>\n",
              "      <td>10</td>\n",
              "      <td>NaN</td>\n",
              "    </tr>\n",
              "    <tr>\n",
              "      <th>61592</th>\n",
              "      <td>2022-01-01 00:49:23</td>\n",
              "      <td>The app is good hard to navigate and won't jus...</td>\n",
              "      <td>2</td>\n",
              "      <td>1</td>\n",
              "      <td>NaN</td>\n",
              "    </tr>\n",
              "    <tr>\n",
              "      <th>61593</th>\n",
              "      <td>2022-01-01 00:19:09</td>\n",
              "      <td>Its good but sometimes it doesnt load the musi...</td>\n",
              "      <td>4</td>\n",
              "      <td>0</td>\n",
              "      <td>NaN</td>\n",
              "    </tr>\n",
              "  </tbody>\n",
              "</table>\n",
              "</div>"
            ],
            "text/plain": [
              "            Time_submitted                                             Review  \\\n",
              "61589  2022-01-01 03:01:29  Even though it was communicated that lyrics fe...   \n",
              "61590  2022-01-01 02:13:40  Use to be sooo good back when I had it, and wh...   \n",
              "61591  2022-01-01 01:02:29  This app would be good if not for it taking ov...   \n",
              "61592  2022-01-01 00:49:23  The app is good hard to navigate and won't jus...   \n",
              "61593  2022-01-01 00:19:09  Its good but sometimes it doesnt load the musi...   \n",
              "\n",
              "       Rating  Total_thumbsup Reply  \n",
              "61589       1               6   NaN  \n",
              "61590       1               0   NaN  \n",
              "61591       2              10   NaN  \n",
              "61592       2               1   NaN  \n",
              "61593       4               0   NaN  "
            ]
          },
          "execution_count": 9,
          "metadata": {},
          "output_type": "execute_result"
        }
      ],
      "source": [
        "\n",
        "df.tail()"
      ]
    },
    {
      "cell_type": "code",
      "execution_count": null,
      "metadata": {
        "colab": {
          "base_uri": "https://localhost:8080/"
        },
        "id": "TN9vuIncxNtD",
        "outputId": "18966bc4-e562-4cd7-f283-8e878ae6bb29"
      },
      "outputs": [
        {
          "data": {
            "text/plain": [
              "Index(['Time_submitted', 'Review', 'Rating', 'Total_thumbsup', 'Reply'], dtype='object')"
            ]
          },
          "execution_count": 10,
          "metadata": {},
          "output_type": "execute_result"
        }
      ],
      "source": [
        "df.columns"
      ]
    },
    {
      "cell_type": "code",
      "execution_count": null,
      "metadata": {
        "colab": {
          "base_uri": "https://localhost:8080/"
        },
        "id": "zhepSCeL0odH",
        "outputId": "9a83336a-2020-4a78-bb08-90cc578199bb"
      },
      "outputs": [
        {
          "data": {
            "text/plain": [
              "(61594, 5)"
            ]
          },
          "execution_count": 11,
          "metadata": {},
          "output_type": "execute_result"
        }
      ],
      "source": [
        "df.shape"
      ]
    },
    {
      "cell_type": "markdown",
      "metadata": {
        "id": "jHhsqOW1xUl9"
      },
      "source": [
        "###EDA"
      ]
    },
    {
      "cell_type": "code",
      "execution_count": null,
      "metadata": {
        "colab": {
          "base_uri": "https://localhost:8080/",
          "height": 300
        },
        "id": "hO8hRwoO0gVI",
        "outputId": "1c09cef0-5738-47b9-ffa7-17d2d8c0ec36"
      },
      "outputs": [
        {
          "data": {
            "text/html": [
              "<div>\n",
              "<style scoped>\n",
              "    .dataframe tbody tr th:only-of-type {\n",
              "        vertical-align: middle;\n",
              "    }\n",
              "\n",
              "    .dataframe tbody tr th {\n",
              "        vertical-align: top;\n",
              "    }\n",
              "\n",
              "    .dataframe thead th {\n",
              "        text-align: right;\n",
              "    }\n",
              "</style>\n",
              "<table border=\"1\" class=\"dataframe\">\n",
              "  <thead>\n",
              "    <tr style=\"text-align: right;\">\n",
              "      <th></th>\n",
              "      <th>Rating</th>\n",
              "      <th>Total_thumbsup</th>\n",
              "    </tr>\n",
              "  </thead>\n",
              "  <tbody>\n",
              "    <tr>\n",
              "      <th>count</th>\n",
              "      <td>61594.000000</td>\n",
              "      <td>61594.000000</td>\n",
              "    </tr>\n",
              "    <tr>\n",
              "      <th>mean</th>\n",
              "      <td>3.155989</td>\n",
              "      <td>7.649381</td>\n",
              "    </tr>\n",
              "    <tr>\n",
              "      <th>std</th>\n",
              "      <td>1.673285</td>\n",
              "      <td>89.323143</td>\n",
              "    </tr>\n",
              "    <tr>\n",
              "      <th>min</th>\n",
              "      <td>1.000000</td>\n",
              "      <td>0.000000</td>\n",
              "    </tr>\n",
              "    <tr>\n",
              "      <th>25%</th>\n",
              "      <td>1.000000</td>\n",
              "      <td>0.000000</td>\n",
              "    </tr>\n",
              "    <tr>\n",
              "      <th>50%</th>\n",
              "      <td>3.000000</td>\n",
              "      <td>0.000000</td>\n",
              "    </tr>\n",
              "    <tr>\n",
              "      <th>75%</th>\n",
              "      <td>5.000000</td>\n",
              "      <td>1.000000</td>\n",
              "    </tr>\n",
              "    <tr>\n",
              "      <th>max</th>\n",
              "      <td>5.000000</td>\n",
              "      <td>8195.000000</td>\n",
              "    </tr>\n",
              "  </tbody>\n",
              "</table>\n",
              "</div>"
            ],
            "text/plain": [
              "             Rating  Total_thumbsup\n",
              "count  61594.000000    61594.000000\n",
              "mean       3.155989        7.649381\n",
              "std        1.673285       89.323143\n",
              "min        1.000000        0.000000\n",
              "25%        1.000000        0.000000\n",
              "50%        3.000000        0.000000\n",
              "75%        5.000000        1.000000\n",
              "max        5.000000     8195.000000"
            ]
          },
          "execution_count": 12,
          "metadata": {},
          "output_type": "execute_result"
        }
      ],
      "source": [
        "df.describe()"
      ]
    },
    {
      "cell_type": "code",
      "execution_count": null,
      "metadata": {
        "colab": {
          "base_uri": "https://localhost:8080/"
        },
        "id": "v7uXYKlnxQJI",
        "outputId": "456b8033-2ae8-4d80-ad9e-eb167108dca3"
      },
      "outputs": [
        {
          "name": "stdout",
          "output_type": "stream",
          "text": [
            "<class 'pandas.core.frame.DataFrame'>\n",
            "RangeIndex: 61594 entries, 0 to 61593\n",
            "Data columns (total 5 columns):\n",
            " #   Column          Non-Null Count  Dtype \n",
            "---  ------          --------------  ----- \n",
            " 0   Time_submitted  61594 non-null  object\n",
            " 1   Review          61594 non-null  object\n",
            " 2   Rating          61594 non-null  int64 \n",
            " 3   Total_thumbsup  61594 non-null  int64 \n",
            " 4   Reply           216 non-null    object\n",
            "dtypes: int64(2), object(3)\n",
            "memory usage: 2.3+ MB\n"
          ]
        }
      ],
      "source": [
        "df.info()"
      ]
    },
    {
      "cell_type": "code",
      "execution_count": null,
      "metadata": {
        "colab": {
          "base_uri": "https://localhost:8080/"
        },
        "id": "rmmVYB2KxbLb",
        "outputId": "f854296b-62c7-4210-b637-0acb2aa59882"
      },
      "outputs": [
        {
          "data": {
            "text/plain": [
              "61356"
            ]
          },
          "execution_count": 14,
          "metadata": {},
          "output_type": "execute_result"
        }
      ],
      "source": [
        "df[\"Review\"].nunique()"
      ]
    },
    {
      "cell_type": "code",
      "execution_count": null,
      "metadata": {
        "colab": {
          "base_uri": "https://localhost:8080/"
        },
        "id": "aGqjhPpTxd-5",
        "outputId": "885ff991-d0df-4bbb-eb47-78104785b6ea"
      },
      "outputs": [
        {
          "data": {
            "text/plain": [
              "5"
            ]
          },
          "execution_count": 15,
          "metadata": {},
          "output_type": "execute_result"
        }
      ],
      "source": [
        "df[\"Rating\"].nunique()"
      ]
    },
    {
      "cell_type": "code",
      "execution_count": null,
      "metadata": {
        "colab": {
          "base_uri": "https://localhost:8080/"
        },
        "id": "kDVB79uYxgN6",
        "outputId": "d09b36c0-6c21-4192-ef48-3f4662bec7de"
      },
      "outputs": [
        {
          "data": {
            "text/plain": [
              "532"
            ]
          },
          "execution_count": 16,
          "metadata": {},
          "output_type": "execute_result"
        }
      ],
      "source": [
        "df[\"Total_thumbsup\"].nunique()"
      ]
    },
    {
      "cell_type": "code",
      "execution_count": null,
      "metadata": {
        "colab": {
          "base_uri": "https://localhost:8080/"
        },
        "id": "SyyTkgWC0rvb",
        "outputId": "699cf89d-cd47-4802-c670-7e61f7bd3eed"
      },
      "outputs": [
        {
          "data": {
            "text/plain": [
              "Time_submitted    object\n",
              "Review            object\n",
              "Rating             int64\n",
              "Total_thumbsup     int64\n",
              "Reply             object\n",
              "dtype: object"
            ]
          },
          "execution_count": 17,
          "metadata": {},
          "output_type": "execute_result"
        }
      ],
      "source": [
        "df.dtypes"
      ]
    },
    {
      "cell_type": "code",
      "execution_count": null,
      "metadata": {
        "colab": {
          "base_uri": "https://localhost:8080/",
          "height": 452
        },
        "id": "s3SQoiDvxjMC",
        "outputId": "aa593292-3bd8-422c-9857-e3a20d6aed2b"
      },
      "outputs": [
        {
          "data": {
            "image/png": "[encoded data removed]",
            "text/plain": [
              "<Figure size 432x288 with 2 Axes>"
            ]
          },
          "metadata": {
            "needs_background": "light"
          },
          "output_type": "display_data"
        }
      ],
      "source": [
        "#plotting histogram\n",
        "df.hist()\n",
        "plt.show()"
      ]
    },
    {
      "cell_type": "code",
      "execution_count": null,
      "metadata": {
        "colab": {
          "base_uri": "https://localhost:8080/",
          "height": 406
        },
        "id": "LI0ORW-szkzR",
        "outputId": "a89abc40-0ed8-47a8-eeea-6d261864fbad"
      },
      "outputs": [
        {
          "data": {
            "image/png": "[encoded data removed]",
            "text/plain": [
              "<Figure size 432x288 with 1 Axes>"
            ]
          },
          "metadata": {},
          "output_type": "display_data"
        }
      ],
      "source": [
        "#pie chart  showing the distri=bution of rating\n",
        "\n",
        "rating_counts = df['Rating'].value_counts()\n",
        "\n",
        "plt.pie(rating_counts, labels=rating_counts.index, autopct='%1.1f%%')\n",
        "plt.show()"
      ]
    },
    {
      "cell_type": "code",
      "execution_count": null,
      "metadata": {
        "colab": {
          "base_uri": "https://localhost:8080/",
          "height": 447
        },
        "id": "92-V1gHHzsqo",
        "outputId": "c1458866-90ef-4568-dc8f-86f5c642df29"
      },
      "outputs": [
        {
          "data": {
            "image/png": "[encoded data removed]",
            "text/plain": [
              "<Figure size 432x288 with 1 Axes>"
            ]
          },
          "metadata": {
            "needs_background": "light"
          },
          "output_type": "display_data"
        }
      ],
      "source": [
        "#Count of review by rating graph\n",
        "ax = df['Rating'].value_counts().sort_index().plot(kind='bar', title='Count of Reviews by Rating')\n",
        "plt.show()"
      ]
    },
    {
      "cell_type": "markdown",
      "metadata": {
        "id": "AxwdsBCm0KBv"
      },
      "source": [
        "##Insights:\n",
        "* Rating 5 has the highest frequency\n",
        "\n",
        "\n",
        "* Rating 5 typically indicates a highly positive sentiment or satisfaction level\n"
      ]
    },
    {
      "cell_type": "markdown",
      "metadata": {
        "id": "T6VXEzi_wAp1"
      },
      "source": [
        "##Data Preprocessing"
      ]
    },
    {
      "cell_type": "code",
      "execution_count": null,
      "metadata": {
        "colab": {
          "base_uri": "https://localhost:8080/"
        },
        "id": "tXGj-_Gpv3c3",
        "outputId": "a58f84f8-2a3a-4f32-fa8e-aa9642d0f65d"
      },
      "outputs": [
        {
          "data": {
            "text/plain": [
              "Time_submitted        0\n",
              "Review                0\n",
              "Rating                0\n",
              "Total_thumbsup        0\n",
              "Reply             61378\n",
              "dtype: int64"
            ]
          },
          "execution_count": 21,
          "metadata": {},
          "output_type": "execute_result"
        }
      ],
      "source": [
        "#Checking for missing values\n",
        "df.isnull().sum()\n"
      ]
    },
    {
      "cell_type": "code",
      "execution_count": null,
      "metadata": {
        "id": "Zpmb50XRnhWK"
      },
      "outputs": [],
      "source": []
    },
    {
      "cell_type": "markdown",
      "metadata": {
        "id": "qiAfLEd2ngmD"
      },
      "source": [
        "##Feature Reduction"
      ]
    },
    {
      "cell_type": "code",
      "execution_count": null,
      "metadata": {
        "id": "jpbG8Zn3v3lY"
      },
      "outputs": [],
      "source": [
        "#Droping  irrelevant columns\n",
        "df = df.drop(['Reply',\"Time_submitted\",\"Total_thumbsup\"], axis=1)"
      ]
    },
    {
      "cell_type": "code",
      "execution_count": null,
      "metadata": {
        "colab": {
          "base_uri": "https://localhost:8080/",
          "height": 424
        },
        "id": "EaQz6b0eyXIL",
        "outputId": "781b1464-cf32-4262-8089-e3477252de9e"
      },
      "outputs": [
        {
          "data": {
            "text/html": [
              "<div>\n",
              "<style scoped>\n",
              "    .dataframe tbody tr th:only-of-type {\n",
              "        vertical-align: middle;\n",
              "    }\n",
              "\n",
              "    .dataframe tbody tr th {\n",
              "        vertical-align: top;\n",
              "    }\n",
              "\n",
              "    .dataframe thead th {\n",
              "        text-align: right;\n",
              "    }\n",
              "</style>\n",
              "<table border=\"1\" class=\"dataframe\">\n",
              "  <thead>\n",
              "    <tr style=\"text-align: right;\">\n",
              "      <th></th>\n",
              "      <th>Review</th>\n",
              "      <th>Rating</th>\n",
              "    </tr>\n",
              "  </thead>\n",
              "  <tbody>\n",
              "    <tr>\n",
              "      <th>0</th>\n",
              "      <td>Great music service, the audio is high quality...</td>\n",
              "      <td>5</td>\n",
              "    </tr>\n",
              "    <tr>\n",
              "      <th>1</th>\n",
              "      <td>Please ignore previous negative rating. This a...</td>\n",
              "      <td>5</td>\n",
              "    </tr>\n",
              "    <tr>\n",
              "      <th>2</th>\n",
              "      <td>This pop-up \"Get the best Spotify experience o...</td>\n",
              "      <td>4</td>\n",
              "    </tr>\n",
              "    <tr>\n",
              "      <th>3</th>\n",
              "      <td>Really buggy and terrible to use as of recently</td>\n",
              "      <td>1</td>\n",
              "    </tr>\n",
              "    <tr>\n",
              "      <th>4</th>\n",
              "      <td>Dear Spotify why do I get songs that I didn't ...</td>\n",
              "      <td>1</td>\n",
              "    </tr>\n",
              "    <tr>\n",
              "      <th>...</th>\n",
              "      <td>...</td>\n",
              "      <td>...</td>\n",
              "    </tr>\n",
              "    <tr>\n",
              "      <th>61589</th>\n",
              "      <td>Even though it was communicated that lyrics fe...</td>\n",
              "      <td>1</td>\n",
              "    </tr>\n",
              "    <tr>\n",
              "      <th>61590</th>\n",
              "      <td>Use to be sooo good back when I had it, and wh...</td>\n",
              "      <td>1</td>\n",
              "    </tr>\n",
              "    <tr>\n",
              "      <th>61591</th>\n",
              "      <td>This app would be good if not for it taking ov...</td>\n",
              "      <td>2</td>\n",
              "    </tr>\n",
              "    <tr>\n",
              "      <th>61592</th>\n",
              "      <td>The app is good hard to navigate and won't jus...</td>\n",
              "      <td>2</td>\n",
              "    </tr>\n",
              "    <tr>\n",
              "      <th>61593</th>\n",
              "      <td>Its good but sometimes it doesnt load the musi...</td>\n",
              "      <td>4</td>\n",
              "    </tr>\n",
              "  </tbody>\n",
              "</table>\n",
              "<p>61594 rows × 2 columns</p>\n",
              "</div>"
            ],
            "text/plain": [
              "                                                  Review  Rating\n",
              "0      Great music service, the audio is high quality...       5\n",
              "1      Please ignore previous negative rating. This a...       5\n",
              "2      This pop-up \"Get the best Spotify experience o...       4\n",
              "3        Really buggy and terrible to use as of recently       1\n",
              "4      Dear Spotify why do I get songs that I didn't ...       1\n",
              "...                                                  ...     ...\n",
              "61589  Even though it was communicated that lyrics fe...       1\n",
              "61590  Use to be sooo good back when I had it, and wh...       1\n",
              "61591  This app would be good if not for it taking ov...       2\n",
              "61592  The app is good hard to navigate and won't jus...       2\n",
              "61593  Its good but sometimes it doesnt load the musi...       4\n",
              "\n",
              "[61594 rows x 2 columns]"
            ]
          },
          "execution_count": 23,
          "metadata": {},
          "output_type": "execute_result"
        }
      ],
      "source": [
        "df"
      ]
    },
    {
      "cell_type": "code",
      "execution_count": null,
      "metadata": {
        "id": "1SAbOHS6TQK5"
      },
      "outputs": [],
      "source": [
        "x = df[[\"Review\"]]"
      ]
    },
    {
      "cell_type": "markdown",
      "metadata": {
        "id": "6MoJHBqfTitf"
      },
      "source": []
    },
    {
      "cell_type": "code",
      "execution_count": null,
      "metadata": {
        "colab": {
          "base_uri": "https://localhost:8080/"
        },
        "id": "nmYWMBoZTjGH",
        "outputId": "8b9a71d5-4f81-4d14-d5f6-02ff07b35ffd"
      },
      "outputs": [
        {
          "name": "stderr",
          "output_type": "stream",
          "text": [
            "[nltk_data] Downloading package wordnet to\n",
            "[nltk_data]     C:\\Users\\user\\AppData\\Roaming\\nltk_data...\n",
            "[nltk_data]   Package wordnet is already up-to-date!\n"
          ]
        }
      ],
      "source": [
        "import nltk\n",
        "from nltk.stem import WordNetLemmatizer\n",
        "\n",
        "nltk.download('wordnet')\n",
        "\n",
        "# Initialize lemmatizer\n",
        "lemmatizer = WordNetLemmatizer()\n",
        "\n",
        "# Lemmatize the 'Review' column\n",
        "df['Review'] = df['Review'].apply(lambda text: ' '.join([lemmatizer.lemmatize(word) for word in text.split()]))\n"
      ]
    },
    {
      "cell_type": "code",
      "execution_count": null,
      "metadata": {
        "id": "G1lytvIUT6Jx"
      },
      "outputs": [],
      "source": [
        "\n",
        "\n",
        "# Define stopwords\n",
        "stop_words = set(stopwords.words('english'))\n",
        "\n",
        "# Remove stopwords from the 'Review' column\n",
        "df['Review'] = df['Review'].apply(lambda text: ' '.join([word for word in text.split() if word.lower() not in stop_words]))\n"
      ]
    },
    {
      "cell_type": "code",
      "execution_count": null,
      "metadata": {
        "id": "D_eFeWzNT6RC"
      },
      "outputs": [],
      "source": [
        "# Define a regular expression pattern for mentions\n",
        "mention_pattern = r'\\S+@\\S+|\\S+://\\S+'\n",
        "\n",
        "# Remove mentions from the 'Review' column\n",
        "df['Review'] = df['Review'].apply(lambda text: re.sub(mention_pattern, '', text))"
      ]
    },
    {
      "cell_type": "code",
      "execution_count": null,
      "metadata": {
        "id": "6NYwDN92UnsY"
      },
      "outputs": [],
      "source": [
        "# Define a simple contractions mapping\n",
        "contractions_mapping = {\n",
        "    \"can't\": \"cannot\",\n",
        "    \"it's\": \"it is\",\n",
        "    \"n't\": \"not\",\n",
        "    \"'s\": \"is\",\n",
        "    \"'re\": \"are\",\n",
        "    \"'ve\": \"have\"\n",
        "}\n",
        "\n",
        "# Replace contractions in the 'Review' column\n",
        "for contraction, expansion in contractions_mapping.items():\n",
        "    df['Review'] = df['Review'].str.replace(contraction, expansion)\n"
      ]
    },
    {
      "cell_type": "code",
      "execution_count": null,
      "metadata": {
        "id": "Sd-v7_5EUsui"
      },
      "outputs": [],
      "source": [
        "# Convert text in the 'Review' column to lowercase\n",
        "df['Review'] = df['Review'].str.lower()\n"
      ]
    },
    {
      "cell_type": "markdown",
      "metadata": {
        "id": "vfw9PmEDot4f"
      },
      "source": [
        "##**Sentimental Analysis**"
      ]
    },
    {
      "cell_type": "code",
      "execution_count": null,
      "metadata": {
        "colab": {
          "base_uri": "https://localhost:8080/"
        },
        "id": "SgMQHqXyxsCn",
        "outputId": "e480348e-3f65-49b3-d1f0-c29907552d77"
      },
      "outputs": [
        {
          "name": "stderr",
          "output_type": "stream",
          "text": [
            "[nltk_data] Downloading package vader_lexicon to\n",
            "[nltk_data]     C:\\Users\\user\\AppData\\Roaming\\nltk_data...\n"
          ]
        },
        {
          "data": {
            "text/plain": [
              "True"
            ]
          },
          "execution_count": 30,
          "metadata": {},
          "output_type": "execute_result"
        }
      ],
      "source": [
        "# Download the VADER lexicon\n",
        "nltk.download('vader_lexicon')"
      ]
    },
    {
      "cell_type": "code",
      "execution_count": null,
      "metadata": {
        "id": "YQd8YLC0wdgX"
      },
      "outputs": [],
      "source": [
        "analyzer = SentimentIntensityAnalyzer()"
      ]
    },
    {
      "cell_type": "code",
      "execution_count": null,
      "metadata": {
        "id": "aiUAn6jzxn14"
      },
      "outputs": [],
      "source": [
        "def categorize_sentiment(review):\n",
        "    # Analyze the sentiment of the review using VADER\n",
        "    sentiment_scores = analyzer.polarity_scores(review)\n",
        "\n",
        "    # Categorize the sentiment based on compound score\n",
        "    if sentiment_scores['compound'] >= 0.05:\n",
        "        return 'positive'\n",
        "    elif sentiment_scores['compound'] <= -0.05:\n",
        "        return 'negative'\n",
        "    else:\n",
        "        return 'neutral'\n"
      ]
    },
    {
      "cell_type": "code",
      "execution_count": null,
      "metadata": {
        "id": "LoCOgAnHx0cY"
      },
      "outputs": [],
      "source": [
        "df['Sentiment'] = df['Review'].apply(categorize_sentiment)"
      ]
    },
    {
      "cell_type": "code",
      "execution_count": null,
      "metadata": {
        "id": "iA4Zo_CVuMFf",
        "outputId": "c73e6259-fdfb-49d1-b431-a45d25e16e00"
      },
      "outputs": [
        {
          "name": "stdout",
          "output_type": "stream",
          "text": [
            "positive    43940\n",
            "negative    12784\n",
            "neutral      4870\n",
            "Name: Sentiment, dtype: int64\n"
          ]
        }
      ],
      "source": [
        "sentiment_counts = df['Sentiment'].value_counts()\n",
        "\n",
        "# Print the counts\n",
        "print(sentiment_counts)\n"
      ]
    },
    {
      "cell_type": "code",
      "execution_count": null,
      "metadata": {
        "id": "QH85Btm3uPKw",
        "outputId": "621d9362-72ac-4ed9-b317-e625d71ed91e"
      },
      "outputs": [
        {
          "data": {
            "image/png": "[encoded data removed]",
            "text/plain": [
              "<Figure size 216x216 with 1 Axes>"
            ]
          },
          "metadata": {},
          "output_type": "display_data"
        }
      ],
      "source": [
        "import matplotlib.pyplot as plt\n",
        "\n",
        "\n",
        "sentiments = ['positive', 'negative', 'neutral']\n",
        "sentiment_counts = [39562,  17007,5025]  # Replace with the actual counts\n",
        "\n",
        "# Create a pie chart\n",
        "plt.figure(figsize=(3, 3))\n",
        "plt.pie(sentiment_counts, labels=sentiments, autopct='%1.1f%%', startangle=140)\n",
        "plt.title('Sentiment Distribution')\n",
        "\n",
        "# Display the chart\n",
        "plt.axis('equal')  # Equal aspect ratio ensures that pie is drawn as a circle.\n",
        "plt.show()\n"
      ]
    },
    {
      "cell_type": "code",
      "execution_count": null,
      "metadata": {
        "id": "Lx3NK5_n1lEB",
        "outputId": "b466b881-e537-4cbb-8892-88d86148dc30"
      },
      "outputs": [
        {
          "data": {
            "text/html": [
              "<div>\n",
              "<style scoped>\n",
              "    .dataframe tbody tr th:only-of-type {\n",
              "        vertical-align: middle;\n",
              "    }\n",
              "\n",
              "    .dataframe tbody tr th {\n",
              "        vertical-align: top;\n",
              "    }\n",
              "\n",
              "    .dataframe thead th {\n",
              "        text-align: right;\n",
              "    }\n",
              "</style>\n",
              "<table border=\"1\" class=\"dataframe\">\n",
              "  <thead>\n",
              "    <tr style=\"text-align: right;\">\n",
              "      <th></th>\n",
              "      <th>Review</th>\n",
              "      <th>Rating</th>\n",
              "      <th>Sentiment</th>\n",
              "    </tr>\n",
              "  </thead>\n",
              "  <tbody>\n",
              "    <tr>\n",
              "      <th>0</th>\n",
              "      <td>great music service, audio high quality app ea...</td>\n",
              "      <td>5</td>\n",
              "      <td>positive</td>\n",
              "    </tr>\n",
              "    <tr>\n",
              "      <th>1</th>\n",
              "      <td>please ignore previous negative rating. app su...</td>\n",
              "      <td>5</td>\n",
              "      <td>positive</td>\n",
              "    </tr>\n",
              "    <tr>\n",
              "      <th>2</th>\n",
              "      <td>pop-up \"get best spotify experience android 12...</td>\n",
              "      <td>4</td>\n",
              "      <td>positive</td>\n",
              "    </tr>\n",
              "    <tr>\n",
              "      <th>3</th>\n",
              "      <td>really buggy terrible use recently</td>\n",
              "      <td>1</td>\n",
              "      <td>negative</td>\n",
              "    </tr>\n",
              "    <tr>\n",
              "      <th>4</th>\n",
              "      <td>dear spotify get song put playlist??? shuffle ...</td>\n",
              "      <td>1</td>\n",
              "      <td>positive</td>\n",
              "    </tr>\n",
              "    <tr>\n",
              "      <th>...</th>\n",
              "      <td>...</td>\n",
              "      <td>...</td>\n",
              "      <td>...</td>\n",
              "    </tr>\n",
              "    <tr>\n",
              "      <th>61589</th>\n",
              "      <td>even though wa communicated lyric feature avai...</td>\n",
              "      <td>1</td>\n",
              "      <td>negative</td>\n",
              "    </tr>\n",
              "    <tr>\n",
              "      <th>61590</th>\n",
              "      <td>use sooo good back it, downloaded (free versio...</td>\n",
              "      <td>1</td>\n",
              "      <td>positive</td>\n",
              "    </tr>\n",
              "    <tr>\n",
              "      <th>61591</th>\n",
              "      <td>app would good taking device on. start comp. t...</td>\n",
              "      <td>2</td>\n",
              "      <td>negative</td>\n",
              "    </tr>\n",
              "    <tr>\n",
              "      <th>61592</th>\n",
              "      <td>app good hard navigate let play song click pla...</td>\n",
              "      <td>2</td>\n",
              "      <td>positive</td>\n",
              "    </tr>\n",
              "    <tr>\n",
              "      <th>61593</th>\n",
              "      <td>good sometimes doesnt load music play like 8 s...</td>\n",
              "      <td>4</td>\n",
              "      <td>positive</td>\n",
              "    </tr>\n",
              "  </tbody>\n",
              "</table>\n",
              "<p>61594 rows × 3 columns</p>\n",
              "</div>"
            ],
            "text/plain": [
              "                                                  Review  Rating Sentiment\n",
              "0      great music service, audio high quality app ea...       5  positive\n",
              "1      please ignore previous negative rating. app su...       5  positive\n",
              "2      pop-up \"get best spotify experience android 12...       4  positive\n",
              "3                     really buggy terrible use recently       1  negative\n",
              "4      dear spotify get song put playlist??? shuffle ...       1  positive\n",
              "...                                                  ...     ...       ...\n",
              "61589  even though wa communicated lyric feature avai...       1  negative\n",
              "61590  use sooo good back it, downloaded (free versio...       1  positive\n",
              "61591  app would good taking device on. start comp. t...       2  negative\n",
              "61592  app good hard navigate let play song click pla...       2  positive\n",
              "61593  good sometimes doesnt load music play like 8 s...       4  positive\n",
              "\n",
              "[61594 rows x 3 columns]"
            ]
          },
          "execution_count": 36,
          "metadata": {},
          "output_type": "execute_result"
        }
      ],
      "source": [
        "df"
      ]
    },
    {
      "cell_type": "code",
      "execution_count": null,
      "metadata": {
        "id": "F41zDZTm39uB"
      },
      "outputs": [],
      "source": [
        "# Split the data into training, validation, and test set\n",
        "from sklearn.model_selection import train_test_split\n",
        "train_df, temp_df = train_test_split(df, test_size=0.2, random_state=42)\n",
        "val_df, test_df = train_test_split(temp_df, test_size=0.5, random_state=42)"
      ]
    },
    {
      "cell_type": "code",
      "execution_count": null,
      "metadata": {
        "id": "JR-6mhCcqK_v"
      },
      "outputs": [],
      "source": [
        "# Convert sentiment labels to numerical values\n",
        "sentiment_mapping = {'negative': 0, 'neutral': 1, 'positive': 2}\n",
        "y_train = train_df['Sentiment'].map(sentiment_mapping)\n",
        "y_val = val_df['Sentiment'].map(sentiment_mapping)\n",
        "y_test = test_df['Sentiment'].map(sentiment_mapping)"
      ]
    },
    {
      "cell_type": "code",
      "execution_count": null,
      "metadata": {
        "id": "cg96W59DpLwP"
      },
      "outputs": [],
      "source": [
        "# Define and fit the tokenizer\n",
        "tokenizer = Tokenizer()\n",
        "tokenizer.fit_on_texts(train_df['Review'])\n"
      ]
    },
    {
      "cell_type": "code",
      "execution_count": null,
      "metadata": {
        "id": "efyp_TiEpN8K"
      },
      "outputs": [],
      "source": [
        "# Define model parameters\n",
        "vocab_size = len(tokenizer.word_index) + 1\n",
        "embedding_dim = 100\n",
        "max_seq_length = 200"
      ]
    },
    {
      "cell_type": "code",
      "execution_count": null,
      "metadata": {
        "id": "7S2-kICYpQP5"
      },
      "outputs": [],
      "source": [
        "# Convert text to sequences\n",
        "X_train = pad_sequences(tokenizer.texts_to_sequences(train_df['Review']), maxlen=max_seq_length)\n",
        "X_val = pad_sequences(tokenizer.texts_to_sequences(val_df['Review']), maxlen=max_seq_length)\n",
        "X_test = pad_sequences(tokenizer.texts_to_sequences(test_df['Review']), maxlen=max_seq_length)"
      ]
    },
    {
      "cell_type": "code",
      "execution_count": null,
      "metadata": {
        "id": "e4aWs8dEpSqz"
      },
      "outputs": [],
      "source": [
        "# Define the model\n",
        "model = Sequential()\n",
        "model.add(Embedding(input_dim=vocab_size, output_dim=embedding_dim, input_length=max_seq_length))\n",
        "model.add(LSTM(units=100))\n",
        "model.add(Dense(units=3, activation='softmax'))\n",
        "\n",
        "model.compile(optimizer='adam', loss='sparse_categorical_crossentropy', metrics=['accuracy'])"
      ]
    },
    {
      "cell_type": "code",
      "execution_count": null,
      "metadata": {
        "colab": {
          "base_uri": "https://localhost:8080/"
        },
        "id": "kSQaCBsXqHt9",
        "outputId": "0dd66787-4342-49ec-f9ab-d9b72aaadec1"
      },
      "outputs": [
        {
          "name": "stdout",
          "output_type": "stream",
          "text": [
            "Epoch 1/10\n",
            "770/770 [==============================] - 152s 195ms/step - loss: 0.4197 - accuracy: 0.8417 - val_loss: 0.3251 - val_accuracy: 0.8829\n",
            "Epoch 2/10\n",
            "770/770 [==============================] - 160s 208ms/step - loss: 0.2349 - accuracy: 0.9217 - val_loss: 0.2627 - val_accuracy: 0.9073\n",
            "Epoch 3/10\n",
            "770/770 [==============================] - 159s 207ms/step - loss: 0.1655 - accuracy: 0.9448 - val_loss: 0.2506 - val_accuracy: 0.9174\n",
            "Epoch 4/10\n",
            "770/770 [==============================] - 157s 204ms/step - loss: 0.1238 - accuracy: 0.9594 - val_loss: 0.2650 - val_accuracy: 0.9198\n",
            "Epoch 5/10\n",
            "770/770 [==============================] - 158s 205ms/step - loss: 0.1010 - accuracy: 0.9667 - val_loss: 0.2838 - val_accuracy: 0.9149\n",
            "Epoch 6/10\n",
            "770/770 [==============================] - 161s 208ms/step - loss: 0.0798 - accuracy: 0.9742 - val_loss: 0.3095 - val_accuracy: 0.9141\n",
            "Epoch 7/10\n",
            "770/770 [==============================] - 167s 217ms/step - loss: 0.0660 - accuracy: 0.9789 - val_loss: 0.3322 - val_accuracy: 0.9144\n",
            "Epoch 8/10\n",
            "770/770 [==============================] - 173s 225ms/step - loss: 0.0552 - accuracy: 0.9824 - val_loss: 0.3834 - val_accuracy: 0.9094\n",
            "Epoch 9/10\n",
            "770/770 [==============================] - 175s 228ms/step - loss: 0.0447 - accuracy: 0.9857 - val_loss: 0.4233 - val_accuracy: 0.9112\n",
            "Epoch 10/10\n",
            "770/770 [==============================] - 172s 224ms/step - loss: 0.0397 - accuracy: 0.9870 - val_loss: 0.4398 - val_accuracy: 0.9109\n"
          ]
        }
      ],
      "source": [
        "# Train the model\n",
        "batch_size = 64\n",
        "epochs = 10\n",
        "\n",
        "history = model.fit(X_train, y_train, batch_size=batch_size, epochs=epochs, validation_data=(X_val, y_val))"
      ]
    },
    {
      "cell_type": "code",
      "execution_count": null,
      "metadata": {
        "id": "QlobeR6NqIZa",
        "outputId": "354c125f-0c89-470e-8f07-eadaf2e2ae94"
      },
      "outputs": [
        {
          "name": "stdout",
          "output_type": "stream",
          "text": [
            "193/193 [==============================] - 6s 31ms/step - loss: 0.4460 - accuracy: 0.9088\n",
            "Test accuracy: 0.9088\n"
          ]
        }
      ],
      "source": [
        "\n",
        "\n",
        "# Evaluate the model\n",
        "test_loss, test_accuracy = model.evaluate(X_test, y_test)\n",
        "print(f'Test accuracy: {test_accuracy:.4f}')"
      ]
    },
    {
      "cell_type": "code",
      "execution_count": null,
      "metadata": {
        "id": "fYHWHkaHYRkx",
        "outputId": "e3a81806-1b10-4eb7-ce2c-77242dbea92c"
      },
      "outputs": [
        {
          "data": {
            "image/png": "[encoded data removed]",
            "text/plain": [
              "<Figure size 432x288 with 1 Axes>"
            ]
          },
          "metadata": {
            "needs_background": "light"
          },
          "output_type": "display_data"
        }
      ],
      "source": [
        "\n",
        "# Plot training & validation accuracy values\n",
        "plt.plot(history.history['accuracy'])\n",
        "plt.plot(history.history['val_accuracy'])\n",
        "plt.title('Model accuracy')\n",
        "plt.xlabel('Epoch')\n",
        "plt.ylabel('Accuracy')\n",
        "plt.legend(['Train', 'Validation'], loc='upper left')\n",
        "plt.show()"
      ]
    },
    {
      "cell_type": "code",
      "execution_count": null,
      "metadata": {
        "id": "Zqe4RFw9YRky",
        "outputId": "d10d4c86-dfa7-457a-9c42-f18460f52b02"
      },
      "outputs": [
        {
          "data": {
            "image/png": "[encoded data removed]",
            "text/plain": [
              "<Figure size 432x288 with 1 Axes>"
            ]
          },
          "metadata": {
            "needs_background": "light"
          },
          "output_type": "display_data"
        }
      ],
      "source": [
        "# Plot training & validation loss values\n",
        "plt.plot(history.history['loss'])\n",
        "plt.plot(history.history['val_loss'])\n",
        "plt.title('Model loss')\n",
        "plt.xlabel('Epoch')\n",
        "plt.ylabel('Loss')\n",
        "plt.legend(['Train', 'Validation'], loc='upper left')\n",
        "plt.show()"
      ]
    },
    {
      "cell_type": "code",
      "execution_count": null,
      "metadata": {
        "id": "mBqoRXVqYRky"
      },
      "outputs": [],
      "source": [
        "def predict_sentiment(text, model, tokenizer, max_seq_length):\n",
        "    # Tokenize and preprocess the input text\n",
        "    text = [text]\n",
        "    inputs = pad_sequences(tokenizer.texts_to_sequences(text), maxlen=max_seq_length)\n",
        "\n",
        "    # Make predictions\n",
        "    predictions = model.predict(inputs)\n",
        "\n",
        "    # Get the predicted sentiment label (positive, neutral, or negative)\n",
        "    sentiment_labels = ['negative', 'neutral', 'positive']\n",
        "    predicted_sentiment = sentiment_labels[np.argmax(predictions)]\n",
        "\n",
        "    return predicted_sentiment\n"
      ]
    },
    {
      "cell_type": "code",
      "execution_count": null,
      "metadata": {
        "id": "6VpXma1RYRky",
        "outputId": "d76f4017-3a5a-48eb-f426-8c458ae6de86"
      },
      "outputs": [
        {
          "name": "stdout",
          "output_type": "stream",
          "text": [
            "1/1 [==============================] - 0s 331ms/step\n",
            "Predicted sentiment: positive\n"
          ]
        }
      ],
      "source": [
        "text_to_predict = \"I really enjoyed the new album on Spotify!\"\n",
        "predicted_sentiment = predict_sentiment(text_to_predict, model, tokenizer, max_seq_length)\n",
        "print(f\"Predicted sentiment: {predicted_sentiment}\")\n"
      ]
    },
    {
      "cell_type": "code",
      "execution_count": null,
      "metadata": {
        "id": "QmF0qvQtYRky",
        "outputId": "9b2e81d2-5259-4549-edc1-e430018ddba9"
      },
      "outputs": [
        {
          "name": "stdout",
          "output_type": "stream",
          "text": [
            "1/1 [==============================] - 0s 38ms/step\n",
            "Predicted sentiment: negative\n"
          ]
        }
      ],
      "source": [
        "text_to_predict = \"Can't play Spotify when on WiFi\"\n",
        "predicted_sentiment = predict_sentiment(text_to_predict, model, tokenizer, max_seq_length)\n",
        "print(f\"Predicted sentiment: {predicted_sentiment}\")"
      ]
    },
    {
      "cell_type": "code",
      "execution_count": null,
      "metadata": {
        "id": "EDOBd7UeYRky",
        "outputId": "61ec8a02-dd6d-4049-fda4-2c9be8c7dde5"
      },
      "outputs": [
        {
          "name": "stdout",
          "output_type": "stream",
          "text": [
            "1/1 [==============================] - 0s 36ms/step\n",
            "Predicted sentiment: positive\n"
          ]
        }
      ],
      "source": [
        "text_to_predict = \"An amazing music experience\"\n",
        "predicted_sentiment = predict_sentiment(text_to_predict, model, tokenizer, max_seq_length)\n",
        "print(f\"Predicted sentiment: {predicted_sentiment}\")"
      ]
    },
    {
      "cell_type": "code",
      "execution_count": null,
      "metadata": {
        "id": "OdAm1C6vYRkz",
        "outputId": "797697fe-afa9-465e-c15e-74b424adbb4b"
      },
      "outputs": [
        {
          "name": "stdout",
          "output_type": "stream",
          "text": [
            "1/1 [==============================] - 0s 37ms/step\n",
            "Predicted sentiment: negative\n"
          ]
        }
      ],
      "source": [
        "text_to_predict = \"Worst app always says I'm offline and never showed any song or podcast\"\n",
        "predicted_sentiment = predict_sentiment(text_to_predict, model, tokenizer, max_seq_length)\n",
        "print(f\"Predicted sentiment: {predicted_sentiment}\")"
      ]
    },
    {
      "cell_type": "code",
      "execution_count": null,
      "metadata": {
        "id": "a-zDDq-QYRkz"
      },
      "outputs": [],
      "source": []
    }
  ],
  "metadata": {
    "colab": {
      "provenance": [],
      "toc_visible": true,
      "include_colab_link": true
    },
    "kernelspec": {
      "display_name": "Python 3 (ipykernel)",
      "language": "python",
      "name": "python3"
    },
    "language_info": {
      "codemirror_mode": {
        "name": "ipython",
        "version": 3
      },
      "file_extension": ".py",
      "mimetype": "text/x-python",
      "name": "python",
      "nbconvert_exporter": "python",
      "pygments_lexer": "ipython3",
      "version": "3.9.12"
    }
  },
  "nbformat": 4,
  "nbformat_minor": 0
}